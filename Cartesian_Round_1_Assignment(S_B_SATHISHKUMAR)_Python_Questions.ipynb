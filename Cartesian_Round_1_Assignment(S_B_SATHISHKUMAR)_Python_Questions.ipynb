{
  "nbformat": 4,
  "nbformat_minor": 0,
  "metadata": {
    "colab": {
      "name": "Cartesian-Round-1  Assignment(S B SATHISHKUMAR) - Python Questions.ipynb",
      "provenance": []
    },
    "kernelspec": {
      "name": "python3",
      "display_name": "Python 3"
    },
    "language_info": {
      "name": "python"
    }
  },
  "cells": [
    {
      "cell_type": "markdown",
      "source": [
        " **PROGRAMMING**\n",
        "\n",
        "---\n",
        "\n",
        "\n",
        "\n",
        "---\n",
        "\n",
        "\n",
        " **PROBLEM STATEMENT**\n",
        "\n",
        " The program takes input a short abstract\n",
        "and outputs the following\n",
        "\n",
        "1) Prints each word in reverse.\n",
        "\n",
        "2) Prints Top 2 occurring words in\n",
        "sorted order. The words that have occurred most of the time.\n",
        "\n",
        "\n",
        "---\n",
        "\n",
        "**SAMPLE INPUT**\n",
        "\n",
        "\"This declaration represents a\n",
        "political commitment among declaration partners to advance a positive vision\n",
        "for the Internet in this era of a united europe\"\n",
        "\n",
        "**SAMPLE OUTPUT**\n",
        "\n",
        "\"Europe united a of era this in internet the for vision positive a advance to partners declaration among commitment political a represents declaration this\"\n"
      ],
      "metadata": {
        "id": "HLt7hE1LyYvF"
      }
    },
    {
      "cell_type": "markdown",
      "source": [
        "**Question-1)\n",
        "  Print each word in reverse**"
      ],
      "metadata": {
        "id": "27qliLpSCmwm"
      }
    },
    {
      "cell_type": "code",
      "source": [
        "sentence = \"This declaration represents a political commitment among declaration partners to advance a positive vision for the Internet in this era of a united europe\"\n",
        "p=sentence.lower()\n",
        "print(p)"
      ],
      "metadata": {
        "colab": {
          "base_uri": "https://localhost:8080/"
        },
        "id": "44WMS-EKFLuM",
        "outputId": "3eec63c9-edd0-4f17-9ee6-63378533fbfe"
      },
      "execution_count": 7,
      "outputs": [
        {
          "output_type": "stream",
          "name": "stdout",
          "text": [
            "this declaration represents a political commitment among declaration partners to advance a positive vision for the internet in this era of a united europe\n"
          ]
        }
      ]
    },
    {
      "cell_type": "code",
      "source": [
        "q =p.split()[::-1]\n",
        "print(q)"
      ],
      "metadata": {
        "colab": {
          "base_uri": "https://localhost:8080/"
        },
        "id": "eGLJt7u0I5_c",
        "outputId": "e5a68e35-6a63-426d-a3fa-407cbb03bb73"
      },
      "execution_count": 8,
      "outputs": [
        {
          "output_type": "stream",
          "name": "stdout",
          "text": [
            "['europe', 'united', 'a', 'of', 'era', 'this', 'in', 'internet', 'the', 'for', 'vision', 'positive', 'a', 'advance', 'to', 'partners', 'declaration', 'among', 'commitment', 'political', 'a', 'represents', 'declaration', 'this']\n"
          ]
        }
      ]
    },
    {
      "cell_type": "code",
      "source": [
        "r=\"\"\n",
        "for i in q:\n",
        "  r=r+i+' '\n",
        "print('\"'+r.capitalize()+'\"')"
      ],
      "metadata": {
        "colab": {
          "base_uri": "https://localhost:8080/"
        },
        "id": "uB60OdpUJzDL",
        "outputId": "e2d044d5-a234-4627-d5ba-3ad82fffa31f"
      },
      "execution_count": 9,
      "outputs": [
        {
          "output_type": "stream",
          "name": "stdout",
          "text": [
            "\"Europe united a of era this in internet the for vision positive a advance to partners declaration among commitment political a represents declaration this \"\n"
          ]
        }
      ]
    },
    {
      "cell_type": "markdown",
      "source": [
        "**Question-2)\n",
        "Prints Top 2 occurring words in sorted order. The words that have occurred most of the\n",
        "time.**"
      ],
      "metadata": {
        "id": "mghW58fGChfi"
      }
    },
    {
      "cell_type": "code",
      "source": [
        "from collections import Counter\n",
        "repeated=sentence.split()\n",
        "words=Counter(repeated)\n",
        "print(words.most_common())"
      ],
      "metadata": {
        "colab": {
          "base_uri": "https://localhost:8080/"
        },
        "id": "C1_pxrzmKTcK",
        "outputId": "01aff050-bc1b-41c2-ebbf-10a893b26e98"
      },
      "execution_count": 10,
      "outputs": [
        {
          "output_type": "stream",
          "name": "stdout",
          "text": [
            "[('a', 3), ('declaration', 2), ('This', 1), ('represents', 1), ('political', 1), ('commitment', 1), ('among', 1), ('partners', 1), ('to', 1), ('advance', 1), ('positive', 1), ('vision', 1), ('for', 1), ('the', 1), ('Internet', 1), ('in', 1), ('this', 1), ('era', 1), ('of', 1), ('united', 1), ('europe', 1)]\n"
          ]
        }
      ]
    },
    {
      "cell_type": "code",
      "source": [
        "print(words.most_common(2))"
      ],
      "metadata": {
        "colab": {
          "base_uri": "https://localhost:8080/"
        },
        "id": "txnKb5teKZMH",
        "outputId": "a62b71c4-f432-4255-f11b-def84ab64bb0"
      },
      "execution_count": 11,
      "outputs": [
        {
          "output_type": "stream",
          "name": "stdout",
          "text": [
            "[('a', 3), ('declaration', 2)]\n"
          ]
        }
      ]
    },
    {
      "cell_type": "code",
      "source": [],
      "metadata": {
        "id": "Li2XgaouTmYJ"
      },
      "execution_count": null,
      "outputs": []
    }
  ]
}